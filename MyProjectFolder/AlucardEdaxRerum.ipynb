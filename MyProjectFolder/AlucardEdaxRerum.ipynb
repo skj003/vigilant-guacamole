{
 "cells": [
  {
   "cell_type": "markdown",
   "metadata": {},
   "source": [
    "## Project  Description\n",
    "\n",
    "\n",
    "The basic approach to my project is a choose your own adventure story. In recent media, something similar to this was the Netflix Orginal Story Bandersnatch. The premise is that the actions of the user, in this case the person running the code, directly affect the outcome of the story. The options for the story are presented via a chatbot and the you play the story as the chatbot unfolds. If you are looking for what novel problem this project fixesm, it would simply be boredom. The story is 5 choices long and at times can give the illusion of choice.\n",
    "\n",
    "I extended upon the chatbot in A3 in the following ways:\n",
    "-  chatbot now systematically allows for the user to puruse the story in a linear fashion rather than a call and response\n",
    "- chatbot contains 5 orginal functions that were not present in A3 and allows user to make decisions rather than \"speaking\" to the code.\n",
    "\n",
    "#### You must run the import code line before you can run the main_story() function. \n",
    "- The main_story() function brings together the other functions that you have imported"
   ]
  },
  {
   "cell_type": "markdown",
   "metadata": {},
   "source": [
    "## Project Code"
   ]
  },
  {
   "cell_type": "code",
   "execution_count": 1,
   "metadata": {},
   "outputs": [],
   "source": [
    "from my_module.functions import *"
   ]
  },
  {
   "cell_type": "code",
   "execution_count": 2,
   "metadata": {},
   "outputs": [
    {
     "name": "stdout",
     "output_type": "stream",
     "text": [
      " At first all you see is darkness. You open your eyes and awaken in a field of tall grass next to a Church. You're awakened by a shrill scream, and your head pounds. You can't remember a thing but your heart feels sunken. You hear the scream again. It seems to be coming from within the church. You walk to the front door. It's very worn, old and cracked. Next to door is a window half open. Do you go through the door or window? \n",
      "door or window: window\n",
      "\" You try to open the window, but it won't budge. You notice something shining on the window's reflection. You back off the window and head to the door. Do you open the door?\n",
      "yes or no: no\n",
      "\" All of a sudden you hear the scream again. There's no time to waste you open the door. As you open the door, a strong musty smell wafts over you and your hands start to shake. You enter the room. It seems eerily familiar and you start having flashbacks of a man running around the room, saying, 'Alucard Edax Rerum'. You slowly creep into the middle of the room and you see a wooden table. It seems engraved. You kneel and a bat flies out from under it startling you. You fall to the floor and in doing so break a leg off the table. You pick it up and see that it has been sharpened to a point and the base of the table leg has an engraving. As you put the table leg against the moonlight you see an engraved bat with the words 'Alucard Edax Rerum written around it'. On the wall you see a bronze sword ontop of the window next to the door. You suddenly see blood oozing around the sword and get panicked and begin to rush upstairs to where you heard the earlier scream from. Do you want to grab the sword or the table leg?\n",
      "sword or table leg: table leg\n",
      "You grab the table leg and rush upstairs and you see an altar, with a body strapped down. You see a hunched disfigured person over the altar. Do you wish to try to speak to the figure?\n",
      "yes or no: yes\n",
      "You try to speak but a feeling of absolute terror floods your body and not a single word escapes you. Suddenly you hear more chanting,'Alucard Edax Rerum. Alucard Edax Rerum. Alucard Edax Rerum'. To your absolute horror it seems to be coming from the person strapped onto the altar. Upon closer examination you see that the person strapped to the altar is you. Or something that looks like you. As they chant, you see the disfigured body over the altar seems to get larger. You slowly approach the the figure, and notice that you seem to be wading through pools of blood. Do you wish to attack?\n",
      "yes or no: yes\n",
      " You raise the table leg and drive it into the heart of the figure. The figure winces in pain, but does not fall down. It turns around and grabs you sinking its visceral teeth into your neck muttering 'Alucard edax rerum' You quickly push the wooden shaft deeper into the figure and the figure stops moving, going limp. You back away and fall to the floor. A pool of blood accumulates from the side of your neck and as you feel lighter you close your eyes one final time muttering uncontrollably that horrid chant 'Alucard edax Rerum' only to open them when you hear a scream. You awaken in tall grass next to a church.\n"
     ]
    }
   ],
   "source": [
    "main_story()"
   ]
  },
  {
   "cell_type": "code",
   "execution_count": null,
   "metadata": {},
   "outputs": [],
   "source": []
  }
 ],
 "metadata": {
  "kernelspec": {
   "display_name": "Python 3",
   "language": "python",
   "name": "python3"
  },
  "language_info": {
   "codemirror_mode": {
    "name": "ipython",
    "version": 3
   },
   "file_extension": ".py",
   "mimetype": "text/x-python",
   "name": "python",
   "nbconvert_exporter": "python",
   "pygments_lexer": "ipython3",
   "version": "3.7.3"
  }
 },
 "nbformat": 4,
 "nbformat_minor": 2
}
